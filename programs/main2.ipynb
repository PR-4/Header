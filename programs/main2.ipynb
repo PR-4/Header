{
 "cells": [
  {
   "cell_type": "code",
   "execution_count": 6,
   "metadata": {},
   "outputs": [],
   "source": [
    "#Importação processos externos\n",
    "import dlisio\n",
    "from dlisio import dlis\n",
    "import pandas as pd\n",
    "import numpy as np\n"
   ]
  },
  {
   "cell_type": "code",
   "execution_count": 7,
   "metadata": {},
   "outputs": [
    {
     "data": {
      "text/plain": [
       "------------\n",
       "Logical File\n",
       "------------\n",
       "Description : LogicalFile(CMR_105LUP)\n",
       "Frames      : 2\n",
       "Channels    : 99\n",
       "\n",
       "Known objects\n",
       "--\n",
       "TOOL                    : 3\n",
       "EQUIPMENT               : 15\n",
       "PARAMETER               : 331\n",
       "CALIBRATION-COEFFICIENT : 108\n",
       "FRAME                   : 2\n",
       "CALIBRATION-MEASUREMENT : 101\n",
       "CHANNEL                 : 99\n",
       "CALIBRATION             : 288\n",
       "ORIGIN                  : 1\n",
       "FILE-HEADER             : 1\n",
       "\n",
       "Unknown objects\n",
       "--\n",
       "440-OP-CHANNEL               : 309\n",
       "440-CHANNEL                  : 291\n",
       "440-PRESENTATION-DESCRIPTION : 1\n"
      ]
     },
     "execution_count": 7,
     "metadata": {},
     "output_type": "execute_result"
    }
   ],
   "source": [
    "#Arquivos de entrada\n",
    "f, *tail = dlis.load('../inputs/4-brsa-163-rjs_cmr.dlis')\n",
    "f.describe()"
   ]
  },
  {
   "cell_type": "code",
   "execution_count": 47,
   "metadata": {},
   "outputs": [],
   "source": [
    "with dlis.load('../inputs/4-brsa-163-rjs_cmr.dlis') as (f, *tail):\n",
    "    f.describe()"
   ]
  },
  {
   "cell_type": "code",
   "execution_count": 141,
   "metadata": {},
   "outputs": [
    {
     "data": {
      "text/plain": [
       "------------\n",
       "Logical File\n",
       "------------\n",
       "Description : LogicalFile(CMR_105LUP)\n",
       "Frames      : 2\n",
       "Channels    : 99\n",
       "\n",
       "Known objects\n",
       "--\n",
       "TOOL                    : 3\n",
       "EQUIPMENT               : 15\n",
       "PARAMETER               : 331\n",
       "CALIBRATION-COEFFICIENT : 108\n",
       "FRAME                   : 2\n",
       "CALIBRATION-MEASUREMENT : 101\n",
       "CHANNEL                 : 99\n",
       "CALIBRATION             : 288\n",
       "ORIGIN                  : 1\n",
       "FILE-HEADER             : 1\n",
       "\n",
       "Unknown objects\n",
       "--\n",
       "440-OP-CHANNEL               : 309\n",
       "440-CHANNEL                  : 291\n",
       "440-PRESENTATION-DESCRIPTION : 1\n"
      ]
     },
     "execution_count": 141,
     "metadata": {},
     "output_type": "execute_result"
    }
   ],
   "source": [
    "f.describe()"
   ]
  },
  {
   "cell_type": "code",
   "execution_count": 52,
   "metadata": {},
   "outputs": [],
   "source": [
    "for ch in f.channels:\n",
    "    pass"
   ]
  },
  {
   "cell_type": "code",
   "execution_count": 122,
   "metadata": {},
   "outputs": [
    {
     "name": "stdout",
     "output_type": "stream",
     "text": [
      "[File-header(1)]\n"
     ]
    }
   ],
   "source": [
    "obj = f.find('FILE-HEADER')\n",
    "print (obj)"
   ]
  },
  {
   "cell_type": "code",
   "execution_count": 142,
   "metadata": {},
   "outputs": [
    {
     "data": {
      "text/plain": [
       "<module 'dlisio.dlis.fileheader' from 'C:\\\\Users\\\\Usuario\\\\AppData\\\\Local\\\\Packages\\\\PythonSoftwareFoundation.Python.3.11_qbz5n2kfra8p0\\\\LocalCache\\\\local-packages\\\\Python311\\\\site-packages\\\\dlisio\\\\dlis\\\\fileheader.py'>"
      ]
     },
     "execution_count": 142,
     "metadata": {},
     "output_type": "execute_result"
    }
   ],
   "source": [
    "dlis.fileheader"
   ]
  }
 ],
 "metadata": {
  "kernelspec": {
   "display_name": "Python 3",
   "language": "python",
   "name": "python3"
  },
  "language_info": {
   "codemirror_mode": {
    "name": "ipython",
    "version": 3
   },
   "file_extension": ".py",
   "mimetype": "text/x-python",
   "name": "python",
   "nbconvert_exporter": "python",
   "pygments_lexer": "ipython3",
   "version": "3.11.4"
  },
  "orig_nbformat": 4
 },
 "nbformat": 4,
 "nbformat_minor": 2
}
